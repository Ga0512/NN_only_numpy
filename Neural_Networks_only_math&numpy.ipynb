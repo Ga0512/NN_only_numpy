{
  "nbformat": 4,
  "nbformat_minor": 0,
  "metadata": {
    "colab": {
      "provenance": [],
      "gpuType": "T4"
    },
    "kernelspec": {
      "name": "python3",
      "display_name": "Python 3"
    },
    "language_info": {
      "name": "python"
    },
    "accelerator": "GPU"
  },
  "cells": [
    {
      "cell_type": "markdown",
      "source": [
        "# NN With Only Math and Numpy"
      ],
      "metadata": {
        "id": "6_zkbB_xffqQ"
      }
    },
    {
      "cell_type": "markdown",
      "source": [
        "## Getting Data"
      ],
      "metadata": {
        "id": "aS7WI4cVfZdf"
      }
    },
    {
      "cell_type": "code",
      "execution_count": 1,
      "metadata": {
        "id": "ATki9J4xtmZG"
      },
      "outputs": [],
      "source": [
        "! pip install -q kaggle"
      ]
    },
    {
      "cell_type": "code",
      "source": [
        "! mkdir ~/.kaggle."
      ],
      "metadata": {
        "id": "rjWVfOm6cItw"
      },
      "execution_count": 2,
      "outputs": []
    },
    {
      "cell_type": "code",
      "source": [
        "from google.colab import files\n",
        "\n",
        "files.upload()"
      ],
      "metadata": {
        "colab": {
          "base_uri": "https://localhost:8080/",
          "height": 91
        },
        "id": "3W2Xfr-ndeM2",
        "outputId": "35a38679-e359-4c2d-e502-c840d2831fb7"
      },
      "execution_count": 4,
      "outputs": [
        {
          "output_type": "display_data",
          "data": {
            "text/plain": [
              "<IPython.core.display.HTML object>"
            ],
            "text/html": [
              "\n",
              "     <input type=\"file\" id=\"files-c63880e0-0780-4288-97de-984b313c5599\" name=\"files[]\" multiple disabled\n",
              "        style=\"border:none\" />\n",
              "     <output id=\"result-c63880e0-0780-4288-97de-984b313c5599\">\n",
              "      Upload widget is only available when the cell has been executed in the\n",
              "      current browser session. Please rerun this cell to enable.\n",
              "      </output>\n",
              "      <script>// Copyright 2017 Google LLC\n",
              "//\n",
              "// Licensed under the Apache License, Version 2.0 (the \"License\");\n",
              "// you may not use this file except in compliance with the License.\n",
              "// You may obtain a copy of the License at\n",
              "//\n",
              "//      http://www.apache.org/licenses/LICENSE-2.0\n",
              "//\n",
              "// Unless required by applicable law or agreed to in writing, software\n",
              "// distributed under the License is distributed on an \"AS IS\" BASIS,\n",
              "// WITHOUT WARRANTIES OR CONDITIONS OF ANY KIND, either express or implied.\n",
              "// See the License for the specific language governing permissions and\n",
              "// limitations under the License.\n",
              "\n",
              "/**\n",
              " * @fileoverview Helpers for google.colab Python module.\n",
              " */\n",
              "(function(scope) {\n",
              "function span(text, styleAttributes = {}) {\n",
              "  const element = document.createElement('span');\n",
              "  element.textContent = text;\n",
              "  for (const key of Object.keys(styleAttributes)) {\n",
              "    element.style[key] = styleAttributes[key];\n",
              "  }\n",
              "  return element;\n",
              "}\n",
              "\n",
              "// Max number of bytes which will be uploaded at a time.\n",
              "const MAX_PAYLOAD_SIZE = 100 * 1024;\n",
              "\n",
              "function _uploadFiles(inputId, outputId) {\n",
              "  const steps = uploadFilesStep(inputId, outputId);\n",
              "  const outputElement = document.getElementById(outputId);\n",
              "  // Cache steps on the outputElement to make it available for the next call\n",
              "  // to uploadFilesContinue from Python.\n",
              "  outputElement.steps = steps;\n",
              "\n",
              "  return _uploadFilesContinue(outputId);\n",
              "}\n",
              "\n",
              "// This is roughly an async generator (not supported in the browser yet),\n",
              "// where there are multiple asynchronous steps and the Python side is going\n",
              "// to poll for completion of each step.\n",
              "// This uses a Promise to block the python side on completion of each step,\n",
              "// then passes the result of the previous step as the input to the next step.\n",
              "function _uploadFilesContinue(outputId) {\n",
              "  const outputElement = document.getElementById(outputId);\n",
              "  const steps = outputElement.steps;\n",
              "\n",
              "  const next = steps.next(outputElement.lastPromiseValue);\n",
              "  return Promise.resolve(next.value.promise).then((value) => {\n",
              "    // Cache the last promise value to make it available to the next\n",
              "    // step of the generator.\n",
              "    outputElement.lastPromiseValue = value;\n",
              "    return next.value.response;\n",
              "  });\n",
              "}\n",
              "\n",
              "/**\n",
              " * Generator function which is called between each async step of the upload\n",
              " * process.\n",
              " * @param {string} inputId Element ID of the input file picker element.\n",
              " * @param {string} outputId Element ID of the output display.\n",
              " * @return {!Iterable<!Object>} Iterable of next steps.\n",
              " */\n",
              "function* uploadFilesStep(inputId, outputId) {\n",
              "  const inputElement = document.getElementById(inputId);\n",
              "  inputElement.disabled = false;\n",
              "\n",
              "  const outputElement = document.getElementById(outputId);\n",
              "  outputElement.innerHTML = '';\n",
              "\n",
              "  const pickedPromise = new Promise((resolve) => {\n",
              "    inputElement.addEventListener('change', (e) => {\n",
              "      resolve(e.target.files);\n",
              "    });\n",
              "  });\n",
              "\n",
              "  const cancel = document.createElement('button');\n",
              "  inputElement.parentElement.appendChild(cancel);\n",
              "  cancel.textContent = 'Cancel upload';\n",
              "  const cancelPromise = new Promise((resolve) => {\n",
              "    cancel.onclick = () => {\n",
              "      resolve(null);\n",
              "    };\n",
              "  });\n",
              "\n",
              "  // Wait for the user to pick the files.\n",
              "  const files = yield {\n",
              "    promise: Promise.race([pickedPromise, cancelPromise]),\n",
              "    response: {\n",
              "      action: 'starting',\n",
              "    }\n",
              "  };\n",
              "\n",
              "  cancel.remove();\n",
              "\n",
              "  // Disable the input element since further picks are not allowed.\n",
              "  inputElement.disabled = true;\n",
              "\n",
              "  if (!files) {\n",
              "    return {\n",
              "      response: {\n",
              "        action: 'complete',\n",
              "      }\n",
              "    };\n",
              "  }\n",
              "\n",
              "  for (const file of files) {\n",
              "    const li = document.createElement('li');\n",
              "    li.append(span(file.name, {fontWeight: 'bold'}));\n",
              "    li.append(span(\n",
              "        `(${file.type || 'n/a'}) - ${file.size} bytes, ` +\n",
              "        `last modified: ${\n",
              "            file.lastModifiedDate ? file.lastModifiedDate.toLocaleDateString() :\n",
              "                                    'n/a'} - `));\n",
              "    const percent = span('0% done');\n",
              "    li.appendChild(percent);\n",
              "\n",
              "    outputElement.appendChild(li);\n",
              "\n",
              "    const fileDataPromise = new Promise((resolve) => {\n",
              "      const reader = new FileReader();\n",
              "      reader.onload = (e) => {\n",
              "        resolve(e.target.result);\n",
              "      };\n",
              "      reader.readAsArrayBuffer(file);\n",
              "    });\n",
              "    // Wait for the data to be ready.\n",
              "    let fileData = yield {\n",
              "      promise: fileDataPromise,\n",
              "      response: {\n",
              "        action: 'continue',\n",
              "      }\n",
              "    };\n",
              "\n",
              "    // Use a chunked sending to avoid message size limits. See b/62115660.\n",
              "    let position = 0;\n",
              "    do {\n",
              "      const length = Math.min(fileData.byteLength - position, MAX_PAYLOAD_SIZE);\n",
              "      const chunk = new Uint8Array(fileData, position, length);\n",
              "      position += length;\n",
              "\n",
              "      const base64 = btoa(String.fromCharCode.apply(null, chunk));\n",
              "      yield {\n",
              "        response: {\n",
              "          action: 'append',\n",
              "          file: file.name,\n",
              "          data: base64,\n",
              "        },\n",
              "      };\n",
              "\n",
              "      let percentDone = fileData.byteLength === 0 ?\n",
              "          100 :\n",
              "          Math.round((position / fileData.byteLength) * 100);\n",
              "      percent.textContent = `${percentDone}% done`;\n",
              "\n",
              "    } while (position < fileData.byteLength);\n",
              "  }\n",
              "\n",
              "  // All done.\n",
              "  yield {\n",
              "    response: {\n",
              "      action: 'complete',\n",
              "    }\n",
              "  };\n",
              "}\n",
              "\n",
              "scope.google = scope.google || {};\n",
              "scope.google.colab = scope.google.colab || {};\n",
              "scope.google.colab._files = {\n",
              "  _uploadFiles,\n",
              "  _uploadFilesContinue,\n",
              "};\n",
              "})(self);\n",
              "</script> "
            ]
          },
          "metadata": {}
        },
        {
          "output_type": "stream",
          "name": "stdout",
          "text": [
            "Saving kaggle.json to kaggle.json\n"
          ]
        },
        {
          "output_type": "execute_result",
          "data": {
            "text/plain": [
              "{'kaggle.json': b'{\"username\":\"gabrielmurilo\",\"key\":\"11aface1fe2d2ea84be0f78b1f8fb44f\"}'}"
            ]
          },
          "metadata": {},
          "execution_count": 4
        }
      ]
    },
    {
      "cell_type": "code",
      "source": [
        "! mkdir ~/.kaggle"
      ],
      "metadata": {
        "id": "hBwaEIgPduEs"
      },
      "execution_count": 5,
      "outputs": []
    },
    {
      "cell_type": "code",
      "source": [
        "! cp kaggle.json ~/.kaggle/"
      ],
      "metadata": {
        "id": "kXSFNbIwdwz1"
      },
      "execution_count": 6,
      "outputs": []
    },
    {
      "cell_type": "code",
      "source": [
        "! chmod 600 ~/.kaggle/kaggle.json"
      ],
      "metadata": {
        "id": "G9F8wqp3dx95"
      },
      "execution_count": 7,
      "outputs": []
    },
    {
      "cell_type": "code",
      "source": [
        "! kaggle datasets list"
      ],
      "metadata": {
        "colab": {
          "base_uri": "https://localhost:8080/"
        },
        "id": "c1kL42eWd5EB",
        "outputId": "35ec59c7-9a4a-44b9-daff-7329ba80a72b"
      },
      "execution_count": 8,
      "outputs": [
        {
          "output_type": "stream",
          "name": "stdout",
          "text": [
            "ref                                                        title                                               size  lastUpdated          downloadCount  voteCount  usabilityRating  \n",
            "---------------------------------------------------------  -------------------------------------------------  -----  -------------------  -------------  ---------  ---------------  \n",
            "prasad22/vehicle-population-statistics                     Vehicle Population Statistics                       44KB  2024-05-25 03:31:34            725         24  1.0              \n",
            "rohit265/credit-card-eligibility-data-determining-factors  Credit Card Eligibility Data: Determining Factors  296KB  2024-05-18 11:31:28            948         23  1.0              \n",
            "rahulvyasm/netflix-movies-and-tv-shows                     Netflix Movies and TV Shows                          1MB  2024-04-10 09:48:38          25670        549  1.0              \n",
            "mayankanand2701/netflix-stock-price-dataset                Netflix Stock Price Dataset 🎥🍿🎬📊                   107KB  2024-05-25 06:59:35            675         31  1.0              \n",
            "prasad22/weather-data                                      Weather Data                                        43MB  2024-05-18 14:27:35           1835         46  1.0              \n",
            "jainaru/thyroid-disease-data                               Thyroid Disease Data                                 3KB  2024-05-10 12:06:31           3567         84  1.0              \n",
            "emirhanai/social-media-usage-and-emotional-well-being      Social Media Usage and Emotional Well-Being          8KB  2024-05-19 18:25:52           2111         43  1.0              \n",
            "lakshayjain611/f1-races-results-dataset-1950-to-2024       F1 Races Results dataset 1950 to 2024               55KB  2024-05-28 04:32:53           1618         35  1.0              \n",
            "zeesolver/spotfy                                           Spotify Songs Album                                 47KB  2024-05-10 09:21:57           2170         31  1.0              \n",
            "dem0nking/video-game-ratings-dataset                       Video Game Ratings Dataset                           2KB  2024-05-23 18:06:30            580         25  1.0              \n",
            "sahirmaharajj/school-student-daily-attendance              School Student Daily Attendance                      2MB  2024-04-29 19:29:56           7230        147  1.0              \n",
            "bhargavlc/studentsperformance                              StudentsPerformance                                  3KB  2024-05-28 09:44:50           1074         24  1.0              \n",
            "vladimirmijatovic/biggest-companies-in-the-world           Biggest Companies in the World                     189KB  2024-05-16 13:39:09            642         28  1.0              \n",
            "amanbarthwal/imdb-movies-data                              IMDB Movies Dataset                                  8MB  2024-05-16 18:43:48           2020         36  1.0              \n",
            "girumwondemagegn/dataset-for-renewable-energy-systems      Dataset for renewable energy systems               853KB  2024-05-17 23:51:25           1231         32  1.0              \n",
            "sahilnbajaj/marketing-campaigns-data-set                   Marketing Campaigns Data Set                        61KB  2024-05-04 04:19:58            946         21  1.0              \n",
            "mayankanand2701/zomato-stock-price-dataset                 Zomato Stock Price Dataset 📊🍗🏨🍴                     13KB  2024-05-23 06:42:34           1038         27  1.0              \n",
            "jainaru/world-happiness-report-2024-yearly-updated         World Happiness Report- 2024                        62KB  2024-05-15 19:04:34           2838         47  1.0              \n",
            "jainaru/electric-vehicle-population                        Electric Vehicle Data                                6MB  2024-05-21 18:40:16           1159         33  1.0              \n",
            "kanchana1990/perfume-e-commerce-dataset-2024               Perfume E-Commerce Dataset 2024                    106KB  2024-05-24 18:53:32            672         29  1.0              \n"
          ]
        }
      ]
    },
    {
      "cell_type": "code",
      "source": [
        "!kaggle competitions download -c digit-recognizer"
      ],
      "metadata": {
        "colab": {
          "base_uri": "https://localhost:8080/"
        },
        "id": "EtdvuF0sd_xz",
        "outputId": "55d78f23-d5ef-4f87-afa7-6934dd30ff57"
      },
      "execution_count": 10,
      "outputs": [
        {
          "output_type": "stream",
          "name": "stdout",
          "text": [
            "Downloading digit-recognizer.zip to /content\n",
            " 33% 5.00M/15.3M [00:00<00:00, 40.4MB/s]\n",
            "100% 15.3M/15.3M [00:00<00:00, 74.4MB/s]\n"
          ]
        }
      ]
    },
    {
      "cell_type": "code",
      "source": [
        "!unzip digit-recognizer.zip"
      ],
      "metadata": {
        "colab": {
          "base_uri": "https://localhost:8080/"
        },
        "id": "l6jVPsQxfM5-",
        "outputId": "22c3b177-a5b6-42fe-d47a-8c98676c50c9"
      },
      "execution_count": 11,
      "outputs": [
        {
          "output_type": "stream",
          "name": "stdout",
          "text": [
            "Archive:  digit-recognizer.zip\n",
            "  inflating: sample_submission.csv   \n",
            "  inflating: test.csv                \n",
            "  inflating: train.csv               \n"
          ]
        }
      ]
    },
    {
      "cell_type": "markdown",
      "source": [
        "## Pre-processing Data"
      ],
      "metadata": {
        "id": "gZeEBsTYgQat"
      }
    },
    {
      "cell_type": "code",
      "source": [
        "import numpy as np\n",
        "import pandas as pd\n",
        "from matplotlib import pyplot as plt\n",
        "\n",
        "data = pd.read_csv('train.csv')"
      ],
      "metadata": {
        "id": "s9pN5BUHfUy9"
      },
      "execution_count": 12,
      "outputs": []
    },
    {
      "cell_type": "code",
      "source": [
        "data = np.array(data)\n",
        "m, n = data.shape\n",
        "np.random.shuffle(data) # shuffle before splitting into dev and training sets\n",
        "\n",
        "data_dev = data[0:1000].T\n",
        "Y_dev = data_dev[0]\n",
        "X_dev = data_dev[1:n]\n",
        "X_dev = X_dev / 255.\n",
        "\n",
        "data_train = data[1000:m].T\n",
        "Y_train = data_train[0]\n",
        "X_train = data_train[1:n]\n",
        "X_train = X_train / 255.\n",
        "_,m_train = X_train.shape"
      ],
      "metadata": {
        "id": "j2DZG97rgYn0"
      },
      "execution_count": 13,
      "outputs": []
    },
    {
      "cell_type": "markdown",
      "source": [
        "## NN parameters"
      ],
      "metadata": {
        "id": "x_IEev0ThOQO"
      }
    },
    {
      "cell_type": "code",
      "source": [
        "def init_params():\n",
        "    W1 = np.random.rand(10, 784) - 0.5\n",
        "    b1 = np.random.rand(10, 1) - 0.5\n",
        "    W2 = np.random.rand(10, 10) - 0.5\n",
        "    b2 = np.random.rand(10, 1) - 0.5\n",
        "    return W1, b1, W2, b2\n",
        "\n",
        "\n",
        "def ReLU(Z):\n",
        "    return np.maximum(Z, 0)\n",
        "\n",
        "def softmax(Z):\n",
        "    A = np.exp(Z) / sum(np.exp(Z))\n",
        "    return A\n",
        "\n",
        "def forward_prop(W1, b1, W2, b2, X):\n",
        "    Z1 = W1.dot(X) + b1\n",
        "    A1 = ReLU(Z1)\n",
        "    Z2 = W2.dot(A1) + b2\n",
        "    A2 = softmax(Z2)\n",
        "    return Z1, A1, Z2, A2\n",
        "\n",
        "def ReLU_deriv(Z):\n",
        "    return Z > 0\n",
        "\n",
        "def one_hot(Y):\n",
        "    one_hot_Y = np.zeros((Y.size, Y.max() + 1))\n",
        "    one_hot_Y[np.arange(Y.size), Y] = 1\n",
        "    one_hot_Y = one_hot_Y.T\n",
        "    return one_hot_Y\n",
        "\n",
        "def backward_prop(Z1, A1, Z2, A2, W1, W2, X, Y):\n",
        "    one_hot_Y = one_hot(Y)\n",
        "    dZ2 = A2 - one_hot_Y\n",
        "    dW2 = 1 / m * dZ2.dot(A1.T)\n",
        "    db2 = 1 / m * np.sum(dZ2)\n",
        "    dZ1 = W2.T.dot(dZ2) * ReLU_deriv(Z1)\n",
        "    dW1 = 1 / m * dZ1.dot(X.T)\n",
        "    db1 = 1 / m * np.sum(dZ1)\n",
        "    return dW1, db1, dW2, db2\n",
        "\n",
        "\n",
        "def update_params(W1, b1, W2, b2, dW1, db1, dW2, db2, alpha):\n",
        "    W1 = W1 - alpha * dW1\n",
        "    b1 = b1 - alpha * db1\n",
        "    W2 = W2 - alpha * dW2\n",
        "    b2 = b2 - alpha * db2\n",
        "    return W1, b1, W2, b2"
      ],
      "metadata": {
        "id": "ubh6SlWdhRql"
      },
      "execution_count": 16,
      "outputs": []
    },
    {
      "cell_type": "code",
      "source": [
        "def get_predictions(A2):\n",
        "    return np.argmax(A2, 0)\n",
        "\n",
        "def get_accuracy(predictions, Y):\n",
        "    print(predictions, Y)\n",
        "    return np.sum(predictions == Y) / Y.size\n",
        "\n",
        "def gradient_descent(X, Y, alpha, iterations):\n",
        "    W1, b1, W2, b2 = init_params()\n",
        "    for i in range(iterations):\n",
        "        Z1, A1, Z2, A2 = forward_prop(W1, b1, W2, b2, X)\n",
        "        dW1, db1, dW2, db2 = backward_prop(Z1, A1, Z2, A2, W1, W2, X, Y)\n",
        "        W1, b1, W2, b2 = update_params(W1, b1, W2, b2, dW1, db1, dW2, db2, alpha)\n",
        "        if i % 10 == 0:\n",
        "            print(\"Iteration: \", i)\n",
        "            predictions = get_predictions(A2)\n",
        "            print(get_accuracy(predictions, Y))\n",
        "    return W1, b1, W2, b2"
      ],
      "metadata": {
        "id": "mGAmQ_h1iwWx"
      },
      "execution_count": 17,
      "outputs": []
    },
    {
      "cell_type": "markdown",
      "source": [
        "## Train"
      ],
      "metadata": {
        "id": "ZqMin0tKkBAa"
      }
    },
    {
      "cell_type": "code",
      "source": [
        "W1, b1, W2, b2 = gradient_descent(X_train, Y_train, 0.10, 500)"
      ],
      "metadata": {
        "colab": {
          "base_uri": "https://localhost:8080/"
        },
        "id": "g1gLKEd2j8UP",
        "outputId": "8925b7f2-e7ea-43a7-c9b9-d82555289579"
      },
      "execution_count": 18,
      "outputs": [
        {
          "output_type": "stream",
          "name": "stdout",
          "text": [
            "Iteration:  0\n",
            "[2 1 6 ... 1 5 3] [4 0 6 ... 5 1 0]\n",
            "0.055682926829268294\n",
            "Iteration:  10\n",
            "[3 0 5 ... 8 5 3] [4 0 6 ... 5 1 0]\n",
            "0.1787560975609756\n",
            "Iteration:  20\n",
            "[3 0 1 ... 8 1 0] [4 0 6 ... 5 1 0]\n",
            "0.2724390243902439\n",
            "Iteration:  30\n",
            "[3 0 1 ... 8 1 0] [4 0 6 ... 5 1 0]\n",
            "0.3308048780487805\n",
            "Iteration:  40\n",
            "[3 0 1 ... 8 1 0] [4 0 6 ... 5 1 0]\n",
            "0.3784878048780488\n",
            "Iteration:  50\n",
            "[3 0 2 ... 8 1 0] [4 0 6 ... 5 1 0]\n",
            "0.41973170731707315\n",
            "Iteration:  60\n",
            "[3 0 2 ... 8 1 0] [4 0 6 ... 5 1 0]\n",
            "0.46302439024390246\n",
            "Iteration:  70\n",
            "[3 0 2 ... 8 1 0] [4 0 6 ... 5 1 0]\n",
            "0.5083414634146342\n",
            "Iteration:  80\n",
            "[7 0 2 ... 8 1 0] [4 0 6 ... 5 1 0]\n",
            "0.5499756097560976\n",
            "Iteration:  90\n",
            "[4 0 2 ... 8 1 0] [4 0 6 ... 5 1 0]\n",
            "0.586\n",
            "Iteration:  100\n",
            "[4 0 2 ... 8 1 0] [4 0 6 ... 5 1 0]\n",
            "0.6150731707317073\n",
            "Iteration:  110\n",
            "[4 0 2 ... 8 1 0] [4 0 6 ... 5 1 0]\n",
            "0.6396585365853659\n",
            "Iteration:  120\n",
            "[4 0 2 ... 8 1 0] [4 0 6 ... 5 1 0]\n",
            "0.6592682926829269\n",
            "Iteration:  130\n",
            "[4 0 2 ... 8 1 0] [4 0 6 ... 5 1 0]\n",
            "0.6747804878048781\n",
            "Iteration:  140\n",
            "[4 0 2 ... 8 1 0] [4 0 6 ... 5 1 0]\n",
            "0.6893658536585365\n",
            "Iteration:  150\n",
            "[4 0 2 ... 8 1 0] [4 0 6 ... 5 1 0]\n",
            "0.7022926829268292\n",
            "Iteration:  160\n",
            "[4 0 2 ... 8 1 0] [4 0 6 ... 5 1 0]\n",
            "0.7129756097560975\n",
            "Iteration:  170\n",
            "[4 0 6 ... 5 1 0] [4 0 6 ... 5 1 0]\n",
            "0.7236829268292683\n",
            "Iteration:  180\n",
            "[4 0 6 ... 5 1 0] [4 0 6 ... 5 1 0]\n",
            "0.7323170731707317\n",
            "Iteration:  190\n",
            "[4 0 6 ... 5 1 0] [4 0 6 ... 5 1 0]\n",
            "0.7405365853658537\n",
            "Iteration:  200\n",
            "[4 0 6 ... 5 1 0] [4 0 6 ... 5 1 0]\n",
            "0.7481463414634146\n",
            "Iteration:  210\n",
            "[4 0 6 ... 5 1 0] [4 0 6 ... 5 1 0]\n",
            "0.7548292682926829\n",
            "Iteration:  220\n",
            "[4 0 6 ... 5 1 0] [4 0 6 ... 5 1 0]\n",
            "0.7613414634146342\n",
            "Iteration:  230\n",
            "[4 0 6 ... 5 1 0] [4 0 6 ... 5 1 0]\n",
            "0.7678780487804878\n",
            "Iteration:  240\n",
            "[4 0 6 ... 5 1 0] [4 0 6 ... 5 1 0]\n",
            "0.7730975609756098\n",
            "Iteration:  250\n",
            "[4 0 6 ... 5 1 0] [4 0 6 ... 5 1 0]\n",
            "0.7783170731707317\n",
            "Iteration:  260\n",
            "[4 0 6 ... 5 1 0] [4 0 6 ... 5 1 0]\n",
            "0.7821707317073171\n",
            "Iteration:  270\n",
            "[9 0 6 ... 5 1 0] [4 0 6 ... 5 1 0]\n",
            "0.7868048780487805\n",
            "Iteration:  280\n",
            "[9 0 6 ... 5 1 0] [4 0 6 ... 5 1 0]\n",
            "0.7909756097560976\n",
            "Iteration:  290\n",
            "[9 0 6 ... 5 1 0] [4 0 6 ... 5 1 0]\n",
            "0.7946829268292683\n",
            "Iteration:  300\n",
            "[9 0 6 ... 5 1 0] [4 0 6 ... 5 1 0]\n",
            "0.7977073170731708\n",
            "Iteration:  310\n",
            "[9 0 6 ... 5 1 0] [4 0 6 ... 5 1 0]\n",
            "0.8008536585365854\n",
            "Iteration:  320\n",
            "[9 0 6 ... 5 1 0] [4 0 6 ... 5 1 0]\n",
            "0.8040487804878049\n",
            "Iteration:  330\n",
            "[9 0 6 ... 5 1 0] [4 0 6 ... 5 1 0]\n",
            "0.8064878048780488\n",
            "Iteration:  340\n",
            "[9 0 6 ... 5 1 0] [4 0 6 ... 5 1 0]\n",
            "0.809609756097561\n",
            "Iteration:  350\n",
            "[9 0 6 ... 5 1 0] [4 0 6 ... 5 1 0]\n",
            "0.8125365853658536\n",
            "Iteration:  360\n",
            "[9 0 6 ... 5 1 0] [4 0 6 ... 5 1 0]\n",
            "0.8146829268292682\n",
            "Iteration:  370\n",
            "[9 0 6 ... 5 1 0] [4 0 6 ... 5 1 0]\n",
            "0.8169756097560975\n",
            "Iteration:  380\n",
            "[9 0 6 ... 5 1 0] [4 0 6 ... 5 1 0]\n",
            "0.8187073170731707\n",
            "Iteration:  390\n",
            "[9 0 6 ... 5 1 0] [4 0 6 ... 5 1 0]\n",
            "0.8207317073170731\n",
            "Iteration:  400\n",
            "[9 0 6 ... 5 1 0] [4 0 6 ... 5 1 0]\n",
            "0.8225853658536585\n",
            "Iteration:  410\n",
            "[9 0 6 ... 5 1 0] [4 0 6 ... 5 1 0]\n",
            "0.8246341463414634\n",
            "Iteration:  420\n",
            "[9 0 6 ... 5 1 0] [4 0 6 ... 5 1 0]\n",
            "0.8261219512195122\n",
            "Iteration:  430\n",
            "[9 0 6 ... 5 1 0] [4 0 6 ... 5 1 0]\n",
            "0.8278780487804878\n",
            "Iteration:  440\n",
            "[9 0 6 ... 5 1 0] [4 0 6 ... 5 1 0]\n",
            "0.8295609756097561\n",
            "Iteration:  450\n",
            "[9 0 6 ... 5 1 0] [4 0 6 ... 5 1 0]\n",
            "0.8312439024390244\n",
            "Iteration:  460\n",
            "[9 0 6 ... 5 1 0] [4 0 6 ... 5 1 0]\n",
            "0.8328292682926829\n",
            "Iteration:  470\n",
            "[9 0 6 ... 5 1 0] [4 0 6 ... 5 1 0]\n",
            "0.8342682926829268\n",
            "Iteration:  480\n",
            "[9 0 6 ... 5 1 0] [4 0 6 ... 5 1 0]\n",
            "0.8359268292682926\n",
            "Iteration:  490\n",
            "[9 0 6 ... 5 1 0] [4 0 6 ... 5 1 0]\n",
            "0.8370731707317073\n"
          ]
        }
      ]
    },
    {
      "cell_type": "markdown",
      "source": [
        "## Validation"
      ],
      "metadata": {
        "id": "wx6FNwfYkDZ2"
      }
    },
    {
      "cell_type": "code",
      "source": [
        "def make_predictions(X, W1, b1, W2, b2):\n",
        "    Z1, A1, Z2, A2 = forward_prop(W1, b1, W2, b2, X)\n",
        "    predictions = get_predictions(A2)\n",
        "    print(Z1.shape, A1.shape, Z2.shape, A2.shape)\n",
        "    return predictions\n",
        "\n",
        "def test_prediction(index, W1, b1, W2, b2):\n",
        "    current_image = X_train[:, index, None]\n",
        "    prediction = make_predictions(X_train[:, index, None], W1, b1, W2, b2)\n",
        "    label = Y_train[index]\n",
        "    print(\"Prediction: \", prediction)\n",
        "    print(\"Label: \", label)\n",
        "\n",
        "    current_image = current_image.reshape((28, 28)) * 255\n",
        "    plt.gray()\n",
        "    plt.imshow(current_image, interpolation='nearest')\n",
        "    plt.show()"
      ],
      "metadata": {
        "id": "DTAxHXO3kK7F"
      },
      "execution_count": 37,
      "outputs": []
    },
    {
      "cell_type": "code",
      "source": [
        "test_prediction(1, W1, b1, W2, b2)\n"
      ],
      "metadata": {
        "colab": {
          "base_uri": "https://localhost:8080/",
          "height": 482
        },
        "id": "97R9J7SokL5L",
        "outputId": "68cc05c0-0b89-4fc9-baa8-446c1c7cbd14"
      },
      "execution_count": 38,
      "outputs": [
        {
          "output_type": "stream",
          "name": "stdout",
          "text": [
            "(10, 1) (10, 1) (10, 1) (10, 1)\n",
            "Prediction:  [0]\n",
            "Label:  0\n"
          ]
        },
        {
          "output_type": "display_data",
          "data": {
            "text/plain": [
              "<Figure size 640x480 with 1 Axes>"
            ],
            "image/png": "[encoded data removed]"
          },
          "metadata": {}
        }
      ]
    },
    {
      "cell_type": "code",
      "source": [
        "dev_predictions = make_predictions(X_dev, W1, b1, W2, b2)\n",
        "get_accuracy(dev_predictions, Y_dev)"
      ],
      "metadata": {
        "colab": {
          "base_uri": "https://localhost:8080/"
        },
        "id": "1b0n-qZtkXpI",
        "outputId": "e16f9cc7-ecac-4f99-da0d-2731822c3a05"
      },
      "execution_count": 21,
      "outputs": [
        {
          "output_type": "stream",
          "name": "stdout",
          "text": [
            "[6 3 1 4 7 3 1 6 9 6 7 6 2 8 2 4 5 9 2 5 5 6 3 5 8 3 9 4 5 7 4 0 8 3 6 7 6\n",
            " 3 3 8 6 9 9 0 4 2 6 3 0 8 7 8 6 0 9 6 0 4 0 3 7 7 5 2 7 5 0 0 7 9 6 1 3 1\n",
            " 0 4 3 4 4 0 5 8 1 1 1 9 1 5 3 9 7 6 0 7 0 2 5 4 9 5 8 4 0 7 5 7 7 1 8 2 6\n",
            " 8 8 1 0 3 7 8 2 6 5 4 9 6 1 4 6 9 7 0 0 2 2 4 8 2 5 1 4 4 7 0 7 0 7 4 3 4\n",
            " 6 1 0 4 7 2 4 1 5 2 9 2 9 9 3 5 0 5 4 2 7 2 1 8 1 4 1 5 0 1 0 3 7 6 0 6 4\n",
            " 9 2 7 2 4 2 4 9 4 0 1 7 1 0 8 4 9 0 9 7 0 3 2 8 6 6 4 8 7 4 1 8 4 7 4 6 4\n",
            " 3 7 0 5 1 9 8 8 2 6 0 6 8 0 7 5 1 2 5 8 8 4 9 7 2 1 3 6 8 5 1 2 4 3 6 3 2\n",
            " 5 8 2 4 9 1 7 4 5 7 9 9 3 6 2 6 1 9 0 1 2 9 0 3 1 6 4 4 5 3 1 6 7 5 3 4 4\n",
            " 9 0 7 4 7 0 7 8 1 6 5 5 4 3 0 8 6 4 2 7 1 3 4 9 5 4 7 2 2 2 1 4 5 9 2 8 7\n",
            " 9 0 5 7 1 3 4 1 6 8 2 2 4 8 0 3 9 7 0 8 6 2 2 5 9 1 2 6 6 4 4 9 9 4 1 9 4\n",
            " 7 3 8 5 4 2 0 3 8 6 7 8 3 8 3 1 7 7 8 9 6 5 6 9 7 1 0 7 4 4 2 6 5 6 3 5 7\n",
            " 0 7 4 5 0 3 1 1 6 1 5 1 8 6 3 9 2 3 9 7 8 9 3 3 5 9 7 0 8 2 6 9 8 1 7 9 3\n",
            " 7 6 0 5 5 1 2 2 7 6 9 7 0 3 9 7 0 3 1 3 9 7 6 2 3 1 1 8 9 4 5 0 6 9 1 0 4\n",
            " 7 9 8 6 6 4 9 0 8 3 2 4 9 6 8 3 9 3 8 3 0 6 0 9 9 3 7 2 0 9 2 4 5 6 6 8 8\n",
            " 5 4 1 4 9 8 1 1 0 0 8 1 7 0 8 8 0 1 2 6 2 0 2 0 9 8 3 4 4 5 7 1 7 8 9 0 7\n",
            " 0 2 0 9 3 6 6 0 2 6 4 7 3 6 5 6 5 9 6 0 8 5 2 1 5 4 6 2 7 3 9 5 3 5 2 7 7\n",
            " 7 3 9 5 1 7 9 0 9 6 4 5 9 9 3 9 0 6 3 1 0 5 6 9 3 9 9 1 1 8 1 3 9 3 7 4 2\n",
            " 6 7 6 0 9 4 0 9 0 9 1 0 8 6 6 8 7 5 8 0 5 8 8 2 1 1 3 2 6 5 4 2 2 4 0 7 3\n",
            " 8 9 8 7 3 2 7 4 1 3 4 8 0 6 0 5 6 0 1 2 6 5 0 4 2 5 7 2 2 2 9 0 2 6 4 9 8\n",
            " 8 0 4 0 8 9 7 3 4 0 6 6 0 1 7 4 7 4 0 3 4 0 4 8 6 7 1 9 4 1 9 4 8 1 4 4 0\n",
            " 7 9 1 1 9 9 9 1 7 4 5 0 8 1 6 7 9 6 0 6 8 5 2 0 4 1 8 8 0 9 3 4 9 6 2 1 4\n",
            " 2 6 9 8 6 0 7 3 7 9 2 7 8 8 5 1 0 2 6 0 6 0 6 2 1 3 8 4 9 3 7 2 5 1 4 4 8\n",
            " 7 8 1 8 2 6 2 1 2 0 9 7 6 8 6 7 0 4 0 1 5 5 7 9 8 1 0 2 8 7 7 5 6 2 1 0 5\n",
            " 6 6 7 0 7 1 3 0 1 7 6 2 6 5 9 2 1 0 9 8 3 2 7 6 1 7 4 4 0 5 6 2 1 1 7 1 7\n",
            " 4 4 2 2 8 8 1 1 8 3 8 0 0 2 7 7 2 0 8 0 1 6 6 2 7 8 1 1 9 9 1 5 3 2 7 7 0\n",
            " 5 0 2 9 1 1 6 6 4 6 6 8 3 7 3 0 8 4 5 1 5 9 7 5 3 8 7 0 9 1 1 9 9 4 1 0 7\n",
            " 5 5 0 0 8 0 0 9 7 8 7 1 4 7 4 6 0 1 3 4 6 1 9 0 9 7 9 0 0 0 3 5 1 4 0 8 4\n",
            " 6] [6 3 1 9 7 5 1 6 9 6 7 5 2 8 2 4 5 5 2 3 5 6 3 3 8 3 9 4 5 7 2 0 8 3 6 7 8\n",
            " 3 3 8 6 9 9 0 7 2 2 3 0 8 7 1 6 0 5 6 0 2 0 3 7 9 5 6 7 5 0 0 7 9 6 1 3 1\n",
            " 0 4 2 6 4 0 5 8 1 1 1 9 1 5 5 9 7 6 0 7 0 2 8 4 9 5 8 9 0 7 4 7 7 1 8 2 6\n",
            " 8 8 1 0 3 7 2 2 6 3 4 9 6 1 9 0 9 7 3 0 2 3 4 8 2 5 1 4 9 7 0 7 0 7 4 3 4\n",
            " 6 1 0 4 7 2 4 5 5 2 9 2 9 9 3 5 0 3 4 3 9 2 1 8 1 4 1 5 0 1 0 3 7 6 0 6 4\n",
            " 9 2 7 2 4 2 4 9 4 0 1 7 1 0 8 2 9 0 9 7 0 3 2 8 6 6 4 8 7 4 1 8 4 9 4 6 4\n",
            " 3 7 0 5 1 9 8 8 2 6 0 5 8 0 7 5 1 2 5 8 8 9 9 7 2 7 3 6 8 5 1 7 4 5 6 3 2\n",
            " 5 4 2 4 7 1 7 9 5 7 9 8 8 6 6 6 1 9 0 1 2 4 0 3 1 6 4 4 3 3 1 6 7 5 3 4 9\n",
            " 9 0 7 4 9 0 7 8 1 5 5 5 4 3 5 8 6 9 3 7 1 3 9 9 5 6 7 2 2 2 1 4 5 9 2 8 7\n",
            " 9 0 5 7 9 3 4 1 6 8 2 2 9 8 0 3 9 7 0 7 2 2 2 5 9 1 2 6 6 4 4 9 9 4 1 7 4\n",
            " 9 3 8 5 4 2 0 3 8 6 7 3 3 1 1 1 7 7 8 9 6 3 2 9 7 1 0 7 4 4 2 6 5 6 3 5 7\n",
            " 8 9 5 5 0 3 1 1 6 1 5 1 8 6 2 9 2 8 9 7 8 9 3 3 5 9 7 0 8 2 6 4 8 1 7 9 3\n",
            " 7 6 0 5 5 1 2 5 7 6 7 7 0 3 4 7 0 8 1 3 9 7 6 2 3 1 1 8 9 4 5 8 6 9 1 3 9\n",
            " 7 9 8 6 6 4 9 0 5 9 2 4 9 6 8 3 4 3 8 3 0 2 0 9 4 9 7 2 0 9 2 4 5 6 6 8 8\n",
            " 3 2 8 9 7 9 5 1 0 0 8 1 7 5 8 8 0 1 2 6 3 0 2 0 9 7 3 4 4 5 7 1 9 8 9 2 7\n",
            " 0 2 0 9 5 6 6 6 2 6 9 7 3 4 5 6 8 9 6 0 3 8 2 1 5 4 6 2 7 3 9 5 3 0 5 9 7\n",
            " 7 3 4 3 1 3 9 0 9 5 4 5 9 5 3 9 0 6 3 1 0 5 6 9 3 9 9 2 1 8 1 3 9 3 7 4 2\n",
            " 5 7 6 0 9 4 0 9 0 9 1 0 8 2 6 8 7 5 8 0 5 8 8 2 1 1 3 2 5 5 4 2 2 9 2 7 3\n",
            " 8 9 2 7 3 2 7 4 1 3 4 8 0 6 5 0 6 0 1 2 6 5 0 4 2 3 2 1 2 2 9 0 2 6 4 4 8\n",
            " 8 0 7 0 8 9 7 3 4 0 6 6 0 1 7 4 7 4 0 3 4 0 6 3 6 7 1 4 4 1 7 4 8 1 2 4 0\n",
            " 7 9 1 1 9 9 9 1 7 9 5 0 8 1 6 7 9 6 0 6 8 5 2 0 4 1 8 2 0 9 3 4 9 6 2 8 4\n",
            " 2 6 9 2 6 0 7 3 7 9 2 7 8 8 5 7 0 2 6 0 6 0 6 2 1 3 9 4 9 3 7 7 5 1 4 4 8\n",
            " 7 8 1 8 2 6 2 1 2 0 9 7 6 8 6 7 0 9 0 1 5 5 3 8 8 1 0 2 8 9 7 8 6 2 1 0 5\n",
            " 8 6 7 0 7 1 3 0 1 7 6 2 6 3 9 3 2 6 4 8 3 2 7 6 1 7 4 4 0 5 6 2 1 1 7 1 9\n",
            " 2 4 2 2 8 8 1 1 8 3 8 0 8 2 7 7 2 0 5 0 1 6 6 2 7 8 1 1 9 4 1 5 2 2 8 7 0\n",
            " 5 0 7 9 1 1 6 6 4 6 6 8 3 7 3 0 5 6 5 2 5 9 7 5 2 8 7 0 9 1 1 9 9 4 1 0 7\n",
            " 5 3 0 0 8 0 0 9 7 8 7 1 4 7 4 6 0 1 3 5 6 1 9 0 5 7 9 0 0 7 3 5 1 4 5 8 4\n",
            " 6]\n"
          ]
        },
        {
          "output_type": "execute_result",
          "data": {
            "text/plain": [
              "0.834"
            ]
          },
          "metadata": {},
          "execution_count": 21
        }
      ]
    }
  ]
}